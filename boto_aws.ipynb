{
 "cells": [
  {
   "cell_type": "code",
   "execution_count": 1,
   "metadata": {
    "collapsed": true
   },
   "outputs": [],
   "source": [
    "\n",
    "from re import *\n",
    "from boto import *\n",
    "from datetime import *\n",
    "from time import *\n",
    "from os import *\n"
   ]
  },
  {
   "cell_type": "markdown",
   "metadata": {},
   "source": []
  },
  {
   "cell_type": "markdown",
   "metadata": {},
   "source": [
    "## get spot pricing\n",
    "This is some boto code that helps get information on spot pricing. Use this to figure out how much you need to bid to get cheap instances for your cluster\n"
   ]
  },
  {
   "cell_type": "code",
   "execution_count": null,
   "metadata": {
    "collapsed": true
   },
   "outputs": [],
   "source": [
    "con=connect_ec2()"
   ]
  },
  {
   "cell_type": "code",
   "execution_count": 28,
   "metadata": {
    "collapsed": false
   },
   "outputs": [],
   "source": [
    "con.get_spot_price_history(instance_type='c4.large')\n",
    "def spot_prices(string = None,price = None):\n",
    "    \"\"\"\n",
    "    gets prices. \n",
    "    2 arguments - string and price. string is regex to match instance type. price is max bid price for spot instance\n",
    "    \n",
    "    \"\"\"\n",
    "    if string is None:\n",
    "        string='c4.large|c4.xlarge|c4.2xlarge|m3.large'\n",
    "    \n",
    "    if price is None:\n",
    "        price=.05\n",
    "\n",
    "    hist=con.get_spot_price_history(start_time=datetime.isoformat(datetime.now()),availability_zone='us-east-1c')\n",
    "    matches=[m for m in [[i,re.search(string,str(i.instance_type))] for i in hist if i.price<price] if m[1]]\n",
    "    if len(matches)>0:\n",
    "        print 'Maximum price right now is $%s' % max([i[0].price for i in matches])\n",
    "        print 'Minimum price right now is $%s' % min([i[0].price for i in matches])\n",
    "        return [[i[0].instance_type,i[0].price,i[0].region] for i in matches]\n",
    "    else:\n",
    "        return \"no matches\"\n",
    "\n"
   ]
  },
  {
   "cell_type": "code",
   "execution_count": 31,
   "metadata": {
    "collapsed": false
   },
   "outputs": [],
   "source": [
    "spot_prices(\"c4.2x\",1.17)\n"
   ]
  },
  {
   "cell_type": "markdown",
   "metadata": {},
   "source": [
    "##Listing of instance types for general use"
   ]
  },
  {
   "cell_type": "markdown",
   "metadata": {},
   "source": [
    "| Instance Type | vCPU | Memory (GiB) | Storage (GB) | Networking Performance | Physical Processor     | Clock Speed (GHz) | Intel AVX† | Intel AVX2† | Intel Turbo | EBS OPT | Enhanced Networking† |\n",
    "|---------------|------|--------------|--------------|------------------------|------------------------|-------------------|------------|-------------|-------------|---------|----------------------|\n",
    "| t2.micro      | 1    | 1            | EBS Only     | Low to Moderate        | Intel Xeon family      | 2.5               | Yes        | 0           | Yes         | -       | 0                    |\n",
    "| t2.small      | 1    | 2            | EBS Only     | Low to Moderate        | Intel Xeon family      | 2.5               | Yes        | 0           | Yes         | -       | 0                    |\n",
    "| t2.medium     | 2    | 4            | EBS Only     | Low to Moderate        | Intel Xeon family      | 2.5               | Yes        | 0           | Yes         | -       | 0                    |\n",
    "| m3.medium     | 1    | 3.75         | 1 x 4 SSD    | Moderate               | Intel Xeon E5-2670 v2* | 2.5               | Yes        | 0           | Yes         | -       | 0                    |\n",
    "| m3.large      | 2    | 7.5          | 1 x 32 SSD   | Moderate               | Intel Xeon E5-2670 v2* | 2.5               | Yes        | 0           | Yes         | -       | 0                    |\n",
    "| m3.xlarge     | 4    | 15           | 2 x 40 SSD   | High                   | Intel Xeon E5-2670 v2* | 2.5               | Yes        | 0           | Yes         | Yes     | 0                    |\n",
    "| m3.2xlarge    | 8    | 30           | 2 x 80 SSD   | High                   | Intel Xeon E5-2670 v2* | 2.5               | Yes        | 0           | Yes         | Yes     | 0                    |\n",
    "| c4.large      | 2    | 3.75         | EBS Only     | Moderate               | Intel Xeon E5-2666 v3  | 2.9               | Yes        | Yes         | Yes         | Yes     | Yes                  |\n",
    "| c4.xlarge     | 4    | 7.5          | EBS Only     | High                   | Intel Xeon E5-2666 v3  | 2.9               | Yes        | Yes         | Yes         | Yes     | Yes                  |\n",
    "| c4.2xlarge    | 8    | 15           | EBS Only     | High                   | Intel Xeon E5-2666 v3  | 2.9               | Yes        | Yes         | Yes         | Yes     | Yes                  |\n",
    "| c4.4xlarge    | 16   | 30           | EBS Only     | High                   | Intel Xeon E5-2666 v3  | 2.9               | Yes        | Yes         | Yes         | Yes     | Yes                  |\n",
    "| c4.8xlarge    | 36   | 60           | EBS Only     | 10 Gigabit             | Intel Xeon E5-2666 v3  | 2.9               | Yes        | Yes         | Yes         | Yes     | Yes                  |\n",
    "| c3.large      | 2    | 3.75         | 2 x 16 SSD   | Moderate               | Intel Xeon E5-2680 v2  | 2.8               | Yes        | 0           | Yes         | -       | Yes                  |\n",
    "| c3.xlarge     | 4    | 7.5          | 2 x 40 SSD   | Moderate               | Intel Xeon E5-2680 v2  | 2.8               | Yes        | 0           | Yes         | Yes     | Yes                  |\n",
    "| c3.2xlarge    | 8    | 15           | 2 x 80 SSD   | High                   | Intel Xeon E5-2680 v2  | 2.8               | Yes        | 0           | Yes         | Yes     | Yes                  |\n",
    "| c3.4xlarge    | 16   | 30           | 2 x 160 SSD  | High                   | Intel Xeon E5-2680 v2  | 2.8               | Yes        | 0           | Yes         | Yes     | Yes                  |\n",
    "| c3.8xlarge    | 32   | 60           | 2 x 320 SSD  | 10 Gigabit             | Intel Xeon E5-2680 v2  | 2.8               | Yes        | 0           | Yes         | -       | Yes                  |\n",
    "| g2.2xlarge    | 8    | 15           | 1 x 60 SSD   | High                   | Intel Xeon  E5-2670    | 2.6               | 0          | 0           | -           | Yes     | 0                    |\n",
    "| r3.large      | 2    | 15.25        | 1 x 32 SSD   | Moderate               | Intel Xeon E5-2670 v2  | 2.5               | Yes        | 0           | Yes         | -       | Yes                  |\n",
    "| r3.xlarge     | 4    | 30.5         | 1 x 80 SSD   | Moderate               | Intel Xeon E5-2670 v2  | 2.5               | Yes        | 0           | Yes         | Yes     | Yes                  |\n",
    "| r3.2xlarge    | 8    | 61           | 1 x 160 SSD  | High                   | Intel Xeon E5-2670 v2  | 2.5               | Yes        | 0           | Yes         | Yes     | Yes                  |\n",
    "| r3.4xlarge    | 16   | 122          | 1 x 320 SSD  | High                   | Intel Xeon E5-2670 v2  | 2.5               | Yes        | 0           | Yes         | Yes     | Yes                  |\n",
    "| r3.8xlarge    | 32   | 244          | 2 x 320 SSD  | 10 Gigabit             | Intel Xeon E5-2670 v2  | 2.5               | Yes        | 0           | Yes         | -       | Yes                  |\n",
    "| i2.xlarge     | 4    | 30.5         | 1 x 800 SSD  | Moderate               | Intel Xeon E5-2670 v2  | 2.5               | Yes        | 0           | Yes         | Yes     | Yes                  |\n",
    "| i2.2xlarge    | 8    | 61           | 2 x 800 SSD  | High                   | Intel Xeon E5-2670 v2  | 2.5               | Yes        | 0           | Yes         | Yes     | Yes                  |\n",
    "| i2.4xlarge    | 16   | 122          | 4 x 800 SSD  | High                   | Intel Xeon E5-2670 v2  | 2.5               | Yes        | 0           | Yes         | Yes     | Yes                  |\n",
    "| i2.8xlarge    | 32   | 244          | 8 x 800 SSD  | 10 Gigabit             | Intel Xeon E5-2670 v2  | 2.5               | Yes        | 0           | Yes         | -       | Yes                  |\n",
    "| hs1.8xlarge   | 16   | 117          | 24 x 2,000   | 10 Gigabit             | Intel Xeon Family      | 2                 | 0          | 0           | -           | -       | 0                    |"
   ]
  },
  {
   "cell_type": "code",
   "execution_count": null,
   "metadata": {
    "collapsed": true
   },
   "outputs": [],
   "source": [
    "## Get image names"
   ]
  },
  {
   "cell_type": "code",
   "execution_count": 120,
   "metadata": {
    "collapsed": false
   },
   "outputs": [
    {
     "data": {
      "text/plain": [
       "[(u'starclusteR_03_31_14', u'ami-22bc8b4a'),\n",
       " (u'starcluster_big', u'ami-c4e1d7ac')]"
      ]
     },
     "execution_count": 120,
     "metadata": {},
     "output_type": "execute_result"
    }
   ],
   "source": [
    "img=con.get_all_images(owners='self')\n",
    "[(i.name,i.id) for i in img]\n"
   ]
  },
  {
   "cell_type": "markdown",
   "metadata": {},
   "source": [
    "## setup access management so that instances can see s3"
   ]
  },
  {
   "cell_type": "markdown",
   "metadata": {},
   "source": [
    "This is helpful if we  use boto or launch individual machines. We can use iam roles to get access to s3 without needing to expose sensitive information on the virtualized machines. Starcluster doesn't yet support this, but in the future it probably will. this is also helpful if you are going to create clusters using the h2o script"
   ]
  },
  {
   "cell_type": "markdown",
   "metadata": {},
   "source": [
    "This sets up the class that will connect ot iam"
   ]
  },
  {
   "cell_type": "code",
   "execution_count": 32,
   "metadata": {
    "collapsed": false
   },
   "outputs": [
    {
     "data": {
      "text/plain": [
       "u'arn:aws:iam::066411604037:role/h2o'"
      ]
     },
     "execution_count": 32,
     "metadata": {},
     "output_type": "execute_result"
    }
   ],
   "source": [
    "iamcon=boto.connect_iam()\n"
   ]
  },
  {
   "cell_type": "code",
   "execution_count": null,
   "metadata": {
    "collapsed": false
   },
   "outputs": [],
   "source": [
    "ec2policy=\"\"\"{\n",
    "  \"Statement\": [\n",
    "    {\n",
    "      \"Effect\": \"Allow\",\n",
    "      \"Action\": [\"ec2:*\"],\n",
    "      \"Resource\": [\"*\"]\n",
    "    }\n",
    "  ]}\n",
    "\"\"\"\n",
    "\n",
    "\n",
    "s3policy = \"\"\"{\n",
    "\"Statement\":[{\n",
    "\"Effect\":\"Allow\",\n",
    "\"Action\":[\"s3:*\"],\n",
    "\"Resource\":[\"*\"]}]}\"\"\"\n",
    "\n",
    "instance_profile = iamcon.create_instance_profile('cluster_profile')\n",
    "role = iamcon.create_role('cluster_role')\n",
    "iamcon.add_role_to_instance_profile('cluster_profile', 'cluster_role')\n",
    "iamcon.put_role_policy('cluster_role', 's3policy', s3policy)\n",
    "iamcon.put_role_policy('cluster_role', 'ec2policy', ec2policy)"
   ]
  },
  {
   "cell_type": "code",
   "execution_count": 161,
   "metadata": {
    "collapsed": false
   },
   "outputs": [
    {
     "data": {
      "text/plain": [
       "[[u'i-5f96b070', u'running', u'ec2-52-1-206-60.compute-1.amazonaws.com']]"
      ]
     },
     "execution_count": 161,
     "metadata": {},
     "output_type": "execute_result"
    }
   ],
   "source": [
    "instances=con.get_all_instances()\n",
    "instances.ids=[j.id for i in instances for j in i.instances]\n",
    "instances.statuses=[j.state for i in instances for j in i.instances]\n",
    "[[j.id, j.state,j.dns_name] for i in instances for j in i.instances]\n"
   ]
  },
  {
   "cell_type": "code",
   "execution_count": 159,
   "metadata": {
    "collapsed": false
   },
   "outputs": [],
   "source": [
    "# setup for requesting a spot instance:\n",
    " \n",
    "# setup spot request:\n",
    "role=\"arn:aws:iam::066411604037:role/h2o\"\n",
    "# ami\n",
    "ami='ami-c4e1d7ac'\n",
    "# instance type:\n",
    "spot_inst_type='c4.8xlarge'\n",
    "# security group:\n",
    "security_groups=con.get_all_security_groups()\n",
    "[i for i in security_groups if re.search('h2o',str(i))]\n",
    "group=[i for i in con.get_all_security_groups() if re.search('h2o',str(i))][0]  # use group.id below\n",
    "\n",
    "# set volume sizing:\n",
    "dev_sda1=ec2.blockdevicemapping.BlockDeviceType()\n",
    "#dev_sda1.size = 30\n",
    "#bdm=ec2.blockdevicemapping.BlockDeviceMapping()\n",
    "#bdm['/dev/sda1']=dev_sda1\n"
   ]
  },
  {
   "cell_type": "code",
   "execution_count": 141,
   "metadata": {
    "collapsed": false
   },
   "outputs": [
    {
     "data": {
      "text/plain": [
       "[SpotInstanceRequest:sir-02dn9h52]"
      ]
     },
     "execution_count": 141,
     "metadata": {},
     "output_type": "execute_result"
    }
   ],
   "source": [
    "con.request_spot_instances(\n",
    " instance_type=spot_inst_type,\n",
    " price=.35,\n",
    " image_id=ami,\n",
    " block_device_map=bdm,\n",
    " instance_profile_name='h2o', # use this since it avoids having to setup instance_profiles\n",
    " key_name='tcbook',\n",
    " count=1,\n",
    " security_group_ids=[group.id], # note that this needs to be in a list\n",
    " dry_run=True\n",
    " )"
   ]
  },
  {
   "cell_type": "code",
   "execution_count": 147,
   "metadata": {
    "collapsed": false
   },
   "outputs": [],
   "source": [
    "spot_req=con.get_all_spot_instance_requests()\n"
   ]
  },
  {
   "cell_type": "code",
   "execution_count": 158,
   "metadata": {
    "collapsed": false
   },
   "outputs": [
    {
     "name": "stdout",
     "output_type": "stream",
     "text": [
      "waiting\n",
      "waiting\n"
     ]
    },
    {
     "ename": "KeyboardInterrupt",
     "evalue": "",
     "output_type": "error",
     "traceback": [
      "\u001b[0;31m---------------------------------------------------------------------------\u001b[0m",
      "\u001b[0;31mKeyboardInterrupt\u001b[0m                         Traceback (most recent call last)",
      "\u001b[0;32m<ipython-input-158-dd7696d1a77a>\u001b[0m in \u001b[0;36m<module>\u001b[0;34m()\u001b[0m\n\u001b[1;32m      4\u001b[0m \u001b[0msp\u001b[0m\u001b[0;34m=\u001b[0m\u001b[0mspot_req\u001b[0m\u001b[0;34m[\u001b[0m\u001b[0;34m-\u001b[0m\u001b[0;36m1\u001b[0m\u001b[0;34m]\u001b[0m\u001b[0;34m\u001b[0m\u001b[0m\n\u001b[1;32m      5\u001b[0m \u001b[0;32mwhile\u001b[0m \u001b[0msp\u001b[0m\u001b[0;34m.\u001b[0m\u001b[0mstatus\u001b[0m\u001b[0;34m.\u001b[0m\u001b[0mcode\u001b[0m\u001b[0;34m==\u001b[0m\u001b[0;34m\"pending-evaluation\"\u001b[0m\u001b[0;34m:\u001b[0m\u001b[0;34m\u001b[0m\u001b[0m\n\u001b[0;32m----> 6\u001b[0;31m     \u001b[0msleep\u001b[0m\u001b[0;34m(\u001b[0m\u001b[0;36m20\u001b[0m\u001b[0;34m)\u001b[0m\u001b[0;34m\u001b[0m\u001b[0m\n\u001b[0m\u001b[1;32m      7\u001b[0m     \u001b[0;32mprint\u001b[0m \u001b[0;34m'waiting'\u001b[0m\u001b[0;34m\u001b[0m\u001b[0m\n\u001b[1;32m      8\u001b[0m \u001b[0;32melse\u001b[0m\u001b[0;34m:\u001b[0m\u001b[0;34m\u001b[0m\u001b[0m\n",
      "\u001b[0;31mKeyboardInterrupt\u001b[0m: "
     ]
    }
   ],
   "source": [
    "from time import *\n",
    "\n",
    "spot_req\n",
    "sp=spot_req[-1]\n",
    "while sp.status.code==\"pending-evaluation\":\n",
    "    sleep(20)\n",
    "    print 'waiting'\n",
    "else:\n",
    "    print 'go go go'"
   ]
  },
  {
   "cell_type": "code",
   "execution_count": 19,
   "metadata": {
    "collapsed": false
   },
   "outputs": [
    {
     "name": "stderr",
     "output_type": "stream",
     "text": [
      "ERROR:boto:412 Precondition Failed\n",
      "ERROR:boto:<?xml version=\"1.0\" encoding=\"UTF-8\"?>\n",
      "<Response><Errors><Error><Code>DryRunOperation</Code><Message>Request would have succeeded, but DryRun flag is set.</Message></Error></Errors><RequestID>d91af0f9-9a88-467b-9fdb-e4349d580b78</RequestID></Response>\n"
     ]
    },
    {
     "name": "stdout",
     "output_type": "stream",
     "text": [
      "Using boto version 2.36.0\n",
      "Launching 3 instances.\n"
     ]
    },
    {
     "ename": "EC2ResponseError",
     "evalue": "EC2ResponseError: 412 Precondition Failed\n<?xml version=\"1.0\" encoding=\"UTF-8\"?>\n<Response><Errors><Error><Code>DryRunOperation</Code><Message>Request would have succeeded, but DryRun flag is set.</Message></Error></Errors><RequestID>d91af0f9-9a88-467b-9fdb-e4349d580b78</RequestID></Response>",
     "output_type": "error",
     "traceback": [
      "\u001b[0;31m---------------------------------------------------------------------------\u001b[0m",
      "\u001b[0;31mEC2ResponseError\u001b[0m                          Traceback (most recent call last)",
      "\u001b[0;32m<ipython-input-19-c4a174e8351e>\u001b[0m in \u001b[0;36m<module>\u001b[0;34m()\u001b[0m\n\u001b[1;32m    112\u001b[0m     \u001b[0;31m#instance_profile_arn=iam_profile_resource_name,\u001b[0m\u001b[0;34m\u001b[0m\u001b[0;34m\u001b[0m\u001b[0m\n\u001b[1;32m    113\u001b[0m     \u001b[0minstance_profile_name\u001b[0m\u001b[0;34m=\u001b[0m\u001b[0miam_profile_name\u001b[0m\u001b[0;34m,\u001b[0m\u001b[0;34m\u001b[0m\u001b[0m\n\u001b[0;32m--> 114\u001b[0;31m     \u001b[0mdry_run\u001b[0m\u001b[0;34m=\u001b[0m\u001b[0mdryRun\u001b[0m\u001b[0;34m\u001b[0m\u001b[0m\n\u001b[0m\u001b[1;32m    115\u001b[0m )\n\u001b[1;32m    116\u001b[0m \u001b[0;34m\u001b[0m\u001b[0m\n",
      "\u001b[0;32m/usr/local/lib/python2.7/site-packages/boto/ec2/connection.pyc\u001b[0m in \u001b[0;36mrun_instances\u001b[0;34m(self, image_id, min_count, max_count, key_name, security_groups, user_data, addressing_type, instance_type, placement, kernel_id, ramdisk_id, monitoring_enabled, subnet_id, block_device_map, disable_api_termination, instance_initiated_shutdown_behavior, private_ip_address, placement_group, client_token, security_group_ids, additional_info, instance_profile_name, instance_profile_arn, tenancy, ebs_optimized, network_interfaces, dry_run)\u001b[0m\n\u001b[1;32m    971\u001b[0m             \u001b[0mparams\u001b[0m\u001b[0;34m[\u001b[0m\u001b[0;34m'DryRun'\u001b[0m\u001b[0;34m]\u001b[0m \u001b[0;34m=\u001b[0m \u001b[0;34m'true'\u001b[0m\u001b[0;34m\u001b[0m\u001b[0m\n\u001b[1;32m    972\u001b[0m         return self.get_object('RunInstances', params, Reservation,\n\u001b[0;32m--> 973\u001b[0;31m                                verb='POST')\n\u001b[0m\u001b[1;32m    974\u001b[0m \u001b[0;34m\u001b[0m\u001b[0m\n\u001b[1;32m    975\u001b[0m     \u001b[0;32mdef\u001b[0m \u001b[0mterminate_instances\u001b[0m\u001b[0;34m(\u001b[0m\u001b[0mself\u001b[0m\u001b[0;34m,\u001b[0m \u001b[0minstance_ids\u001b[0m\u001b[0;34m=\u001b[0m\u001b[0mNone\u001b[0m\u001b[0;34m,\u001b[0m \u001b[0mdry_run\u001b[0m\u001b[0;34m=\u001b[0m\u001b[0mFalse\u001b[0m\u001b[0;34m)\u001b[0m\u001b[0;34m:\u001b[0m\u001b[0;34m\u001b[0m\u001b[0m\n",
      "\u001b[0;32m/usr/local/lib/python2.7/site-packages/boto/connection.pyc\u001b[0m in \u001b[0;36mget_object\u001b[0;34m(self, action, params, cls, path, parent, verb)\u001b[0m\n\u001b[1;32m   1205\u001b[0m             \u001b[0mboto\u001b[0m\u001b[0;34m.\u001b[0m\u001b[0mlog\u001b[0m\u001b[0;34m.\u001b[0m\u001b[0merror\u001b[0m\u001b[0;34m(\u001b[0m\u001b[0;34m'%s %s'\u001b[0m \u001b[0;34m%\u001b[0m \u001b[0;34m(\u001b[0m\u001b[0mresponse\u001b[0m\u001b[0;34m.\u001b[0m\u001b[0mstatus\u001b[0m\u001b[0;34m,\u001b[0m \u001b[0mresponse\u001b[0m\u001b[0;34m.\u001b[0m\u001b[0mreason\u001b[0m\u001b[0;34m)\u001b[0m\u001b[0;34m)\u001b[0m\u001b[0;34m\u001b[0m\u001b[0m\n\u001b[1;32m   1206\u001b[0m             \u001b[0mboto\u001b[0m\u001b[0;34m.\u001b[0m\u001b[0mlog\u001b[0m\u001b[0;34m.\u001b[0m\u001b[0merror\u001b[0m\u001b[0;34m(\u001b[0m\u001b[0;34m'%s'\u001b[0m \u001b[0;34m%\u001b[0m \u001b[0mbody\u001b[0m\u001b[0;34m)\u001b[0m\u001b[0;34m\u001b[0m\u001b[0m\n\u001b[0;32m-> 1207\u001b[0;31m             \u001b[0;32mraise\u001b[0m \u001b[0mself\u001b[0m\u001b[0;34m.\u001b[0m\u001b[0mResponseError\u001b[0m\u001b[0;34m(\u001b[0m\u001b[0mresponse\u001b[0m\u001b[0;34m.\u001b[0m\u001b[0mstatus\u001b[0m\u001b[0;34m,\u001b[0m \u001b[0mresponse\u001b[0m\u001b[0;34m.\u001b[0m\u001b[0mreason\u001b[0m\u001b[0;34m,\u001b[0m \u001b[0mbody\u001b[0m\u001b[0;34m)\u001b[0m\u001b[0;34m\u001b[0m\u001b[0m\n\u001b[0m\u001b[1;32m   1208\u001b[0m \u001b[0;34m\u001b[0m\u001b[0m\n\u001b[1;32m   1209\u001b[0m     \u001b[0;32mdef\u001b[0m \u001b[0mget_status\u001b[0m\u001b[0;34m(\u001b[0m\u001b[0mself\u001b[0m\u001b[0;34m,\u001b[0m \u001b[0maction\u001b[0m\u001b[0;34m,\u001b[0m \u001b[0mparams\u001b[0m\u001b[0;34m,\u001b[0m \u001b[0mpath\u001b[0m\u001b[0;34m=\u001b[0m\u001b[0;34m'/'\u001b[0m\u001b[0;34m,\u001b[0m \u001b[0mparent\u001b[0m\u001b[0;34m=\u001b[0m\u001b[0mNone\u001b[0m\u001b[0;34m,\u001b[0m \u001b[0mverb\u001b[0m\u001b[0;34m=\u001b[0m\u001b[0;34m'GET'\u001b[0m\u001b[0;34m)\u001b[0m\u001b[0;34m:\u001b[0m\u001b[0;34m\u001b[0m\u001b[0m\n",
      "\u001b[0;31mEC2ResponseError\u001b[0m: EC2ResponseError: 412 Precondition Failed\n<?xml version=\"1.0\" encoding=\"UTF-8\"?>\n<Response><Errors><Error><Code>DryRunOperation</Code><Message>Request would have succeeded, but DryRun flag is set.</Message></Error></Errors><RequestID>d91af0f9-9a88-467b-9fdb-e4349d580b78</RequestID></Response>"
     ]
    }
   ],
   "source": [
    "#!/usr/bin/env python\n",
    "\n",
    "import os\n",
    "import sys\n",
    "import time\n",
    "import boto\n",
    "import boto.ec2\n",
    "\n",
    "\n",
    "# Environment variables you MUST set (either here or by passing them in).\n",
    "# -----------------------------------------------------------------------\n",
    "#\n",
    "# os.environ['AWS_ACCESS_KEY_ID'] = '...'\n",
    "# os.environ['AWS_SECRET_ACCESS_KEY'] = '...'\n",
    "# os.environ['AWS_SSH_PRIVATE_KEY_FILE'] = '/path/to/private_key.pem'\n",
    "\n",
    "# Launch EC2 instances with an IAM role\n",
    "# --------------------------------------\n",
    "# \n",
    "#iam_profile_resource_name = h2oiam.arn\n",
    "# or\n",
    "iam_profile_name = h2oiam.name\n",
    "\n",
    "# Options you MUST tailor to your own AWS account.\n",
    "# ------------------------------------------------\n",
    "\n",
    "# SSH key pair name.\n",
    "keyName = 'tcbook' \n",
    "\n",
    "# AWS security group name.\n",
    "# Note:\n",
    "#     H2O uses TCP and UDP ports 54321 and 54322.\n",
    "#     RStudio uses TCP port 8787.\n",
    "securityGroupName = 'h2o'\n",
    "\n",
    "\n",
    "# Options you might want to change.\n",
    "# ---------------------------------\n",
    "\n",
    "numInstancesToLaunch = 3\n",
    "instanceType = 'm1.large'\n",
    "instanceNameRoot = 'H2ORStudioDemo'\n",
    "\n",
    "\n",
    "# Options to help debugging.\n",
    "# --------------------------\n",
    "\n",
    "debug = 0\n",
    "# debug = 1\n",
    "dryRun = True\n",
    "# dryRun = True\n",
    "\n",
    "\n",
    "# Options you should not change unless you really mean to.\n",
    "# --------------------------------------------------------\n",
    "\n",
    "regionName = 'us-east-1'\n",
    "amiId = 'ami-ed550784'\n",
    "\n",
    "\n",
    "#--------------------------------------------------------------------------\n",
    "# No need to change anything below here.\n",
    "#--------------------------------------------------------------------------\n",
    "\n",
    "# Note: this python script was initially developed with boto 2.13.3.\n",
    "def botoVersionMismatch():\n",
    "    print 'WARNING:  Unsupported boto version.  Please upgrade boto to at least 2.13.x and try again.'\n",
    "    print 'Comment this out to run anyway.'\n",
    "    print 'Exiting.'\n",
    "    sys.exit(1)\n",
    "\n",
    "if not 'AWS_ACCESS_KEY_ID' in os.environ:\n",
    "    print 'ERROR: You must set AWS_ACCESS_KEY_ID in the environment.'\n",
    "    sys.exit(1)\n",
    "\n",
    "if not 'AWS_SECRET_ACCESS_KEY' in os.environ:\n",
    "    print 'ERROR: You must set AWS_SECRET_ACCESS_KEY in the environment.'\n",
    "    sys.exit(1)\n",
    "\n",
    "if not 'AWS_SSH_PRIVATE_KEY_FILE' in os.environ:\n",
    "    print 'ERROR: You must set AWS_SSH_PRIVATE_KEY_FILE in the environment.'\n",
    "    sys.exit(1)\n",
    "\n",
    "publicFileName = 'nodes-public'\n",
    "privateFileName = 'nodes-private'\n",
    "\n",
    "if not dryRun:\n",
    "    fpublic = open(publicFileName, 'w')\n",
    "    fprivate = open(privateFileName, 'w')\n",
    "\n",
    "print 'Using boto version', boto.Version\n",
    "if True:\n",
    "    botoVersionArr = boto.Version.split(\".\")\n",
    "    if (botoVersionArr[0] != 2):\n",
    "        botoVersionMismatch\n",
    "    if (botoVersionArr[1] < 13):\n",
    "        botoVersionMismatch\n",
    "\n",
    "if (debug):\n",
    "    boto.set_stream_logger('h2o-ec2')\n",
    "ec2 = boto.ec2.connect_to_region(regionName, debug=debug)\n",
    "\n",
    "print 'Launching', numInstancesToLaunch, 'instances.'\n",
    "\n",
    "reservation = ec2.run_instances(\n",
    "    image_id=amiId,\n",
    "    min_count=numInstancesToLaunch,\n",
    "    max_count=numInstancesToLaunch,\n",
    "    key_name=keyName,\n",
    "    instance_type=instanceType,\n",
    "    security_groups=[securityGroupName],\n",
    "    #instance_profile_arn=iam_profile_resource_name,\n",
    "    instance_profile_name=iam_profile_name,\n",
    "    dry_run=dryRun\n",
    ")\n",
    "\n",
    "for i in range(numInstancesToLaunch):\n",
    "    instance = reservation.instances[i]\n",
    "    print 'Waiting for instance', i+1, 'of', numInstancesToLaunch, '...'\n",
    "    instance.update()\n",
    "    while instance.state != 'running':\n",
    "        print '    .'\n",
    "        time.sleep(1)\n",
    "        instance.update()\n",
    "    print '    instance', i+1, 'of', numInstancesToLaunch, 'is up.'\n",
    "    name = instanceNameRoot + str(i)\n",
    "    instance.add_tag('Name', value=name)\n",
    "\n",
    "print\n",
    "print 'Creating output files: ', publicFileName, privateFileName\n",
    "print\n",
    "\n",
    "for i in range(numInstancesToLaunch):\n",
    "    instance = reservation.instances[i]\n",
    "    instanceName = ''\n",
    "    if 'Name' in instance.tags:\n",
    "        instanceName = instance.tags['Name'];\n",
    "    print 'Instance', i+1, 'of', numInstancesToLaunch\n",
    "    print '    Name:   ', instanceName\n",
    "    print '    PUBLIC: ', instance.public_dns_name\n",
    "    print '    PRIVATE:', instance.private_ip_address\n",
    "    print\n",
    "    fpublic.write(instance.public_dns_name + '\\n')\n",
    "    fprivate.write(instance.private_ip_address + '\\n')\n",
    "\n",
    "fpublic.close()\n",
    "fprivate.close()\n",
    "\n",
    "print 'Sleeping for 60 seconds for ssh to be available...'\n",
    "time.sleep(60)\n",
    "\n",
    "d = os.path.dirname(os.path.realpath(__file__))\n",
    "\n",
    "print 'Testing ssh access...'\n",
    "cmd = d + '/' + 'h2o-cluster-test-ssh.sh'\n",
    "rv = os.system(cmd)\n",
    "if rv != 0:\n",
    "    print 'Failed.'\n",
    "    sys.exit(1)\n",
    "\n",
    "print\n",
    "print 'Distributing flatfile...'\n",
    "cmd = d + '/' + 'h2o-cluster-distribute-flatfile.sh'\n",
    "rv = os.system(cmd)\n",
    "if rv != 0:\n",
    "    print 'Failed.'\n",
    "    sys.exit(1)\n",
    "\n",
    "# Distribute flatfile script already prints success when it completes.\n"
   ]
  },
  {
   "cell_type": "code",
   "execution_count": 16,
   "metadata": {
    "collapsed": false
   },
   "outputs": [
    {
     "ename": "NameError",
     "evalue": "name 'iamInstanceProfile' is not defined",
     "output_type": "error",
     "traceback": [
      "\u001b[0;31m---------------------------------------------------------------------------\u001b[0m",
      "\u001b[0;31mNameError\u001b[0m                                 Traceback (most recent call last)",
      "\u001b[0;32m<ipython-input-16-585f8b9e0d80>\u001b[0m in \u001b[0;36m<module>\u001b[0;34m()\u001b[0m\n\u001b[0;32m----> 1\u001b[0;31m \u001b[0;32mdel\u001b[0m\u001b[0;34m(\u001b[0m\u001b[0miamInstanceProfile\u001b[0m\u001b[0;34m.\u001b[0m\u001b[0mname\u001b[0m\u001b[0;34m)\u001b[0m\u001b[0;34m\u001b[0m\u001b[0m\n\u001b[0m",
      "\u001b[0;31mNameError\u001b[0m: name 'iamInstanceProfile' is not defined"
     ]
    }
   ],
   "source": [
    "del(iamInstanceProfile.name)"
   ]
  },
  {
   "cell_type": "code",
   "execution_count": 11,
   "metadata": {
    "collapsed": true
   },
   "outputs": [],
   "source": [
    "# starcluster\n",
    "import starcluster.commands\n",
    "import inspect\n",
    "import os"
   ]
  },
  {
   "cell_type": "code",
   "execution_count": 26,
   "metadata": {
    "collapsed": false
   },
   "outputs": [
    {
     "data": {
      "text/plain": [
       "['StarCluster - (http://star.mit.edu/cluster) (v. 0.95.6)',\n",
       " 'Software Tools for Academics and Researchers (STAR)',\n",
       " 'Please submit bug reports to starcluster@mit.edu',\n",
       " '',\n",
       " \"*** WARNING - Setting 'AWS_SECRET_ACCESS_KEY' from environment...\",\n",
       " \"*** WARNING - Setting 'AWS_ACCESS_KEY_ID' from environment...\",\n",
       " '>>> Your registered images:',\n",
       " '',\n",
       " '32bit Images:',\n",
       " '-------------',\n",
       " '',\n",
       " '64bit Images:',\n",
       " '--------------',\n",
       " '[0] ami-acb180c4 us-east-1 starclusteR (HVM-EBS)',\n",
       " '',\n",
       " 'total images: 1',\n",
       " '']"
      ]
     },
     "execution_count": 26,
     "metadata": {},
     "output_type": "execute_result"
    }
   ],
   "source": [
    "%system starcluster listimages \n",
    "#starcluster.commands.CmdPut("
   ]
  },
  {
   "cell_type": "code",
   "execution_count": 183,
   "metadata": {
    "collapsed": false
   },
   "outputs": [
    {
     "data": {
      "text/plain": [
       "[<Key: dissertationdata,eugene.RData>,\n",
       " <Key: dissertationdata,eugene.csv>,\n",
       " <Key: dissertationdata,eugene.hex.zip>,\n",
       " <Key: dissertationdata,eugene_1816_1945.csv>,\n",
       " <Key: dissertationdata,eugene_data.rdata>,\n",
       " <Key: dissertationdata,eugene_gene.RData>,\n",
       " <Key: dissertationdata,eugenedat.RData>,\n",
       " <Key: dissertationdata,eugenedat.csv>,\n",
       " <Key: dissertationdata,eugenemerged.csv>,\n",
       " <Key: dissertationdata,poast_eugene.RData>,\n",
       " <Key: dissertationdata,poast_working_data.rdata>,\n",
       " <Key: dissertationdata,working_h2o.Rdata>]"
      ]
     },
     "execution_count": 183,
     "metadata": {},
     "output_type": "execute_result"
    }
   ],
   "source": [
    "\n",
    "\n",
    "s3con=s3.connect_to_region('us-east-1')\n",
    "dissertationdata=s3con.get_bucket('dissertationdata')\n",
    "[i for i in dissertationdata.list()]"
   ]
  },
  {
   "cell_type": "markdown",
   "metadata": {},
   "source": [
    "configure image for starcluster: \n",
    "\n",
    "starcluster start -o -s 1 -b 0.50 -I <INSTANCE-TYPE> -m <BASE-AMI-ID> imagehost"
   ]
  }
 ],
 "metadata": {
  "kernelspec": {
   "display_name": "Python 2",
   "language": "python",
   "name": "python2"
  },
  "language_info": {
   "codemirror_mode": {
    "name": "ipython",
    "version": 2
   },
   "file_extension": ".py",
   "mimetype": "text/x-python",
   "name": "python",
   "nbconvert_exporter": "python",
   "pygments_lexer": "ipython2",
   "version": "2.7.8"
  }
 },
 "nbformat": 4,
 "nbformat_minor": 0
}
