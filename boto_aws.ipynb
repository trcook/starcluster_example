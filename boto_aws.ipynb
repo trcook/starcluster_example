{
 "cells": [
  {
   "cell_type": "code",
   "execution_count": 1,
   "metadata": {
    "collapsed": true
   },
   "outputs": [],
   "source": [
    "\n",
    "from re import *\n",
    "from boto import *\n",
    "from datetime import *\n",
    "from time import *\n",
    "from os import *\n"
   ]
  },
  {
   "cell_type": "markdown",
   "metadata": {},
   "source": []
  },
  {
   "cell_type": "markdown",
   "metadata": {},
   "source": [
    "## get spot pricing\n",
    "This is some boto code that helps get information on spot pricing. Use this to figure out how much you need to bid to get cheap instances for your cluster\n"
   ]
  },
  {
   "cell_type": "code",
   "execution_count": null,
   "metadata": {
    "collapsed": true
   },
   "outputs": [],
   "source": [
    "con=connect_ec2()"
   ]
  },
  {
   "cell_type": "code",
   "execution_count": 28,
   "metadata": {
    "collapsed": false
   },
   "outputs": [],
   "source": [
    "con.get_spot_price_history(instance_type='c4.large')\n",
    "def spot_prices(string = None,price = None):\n",
    "    \"\"\"\n",
    "    gets prices. \n",
    "    2 arguments - string and price. string is regex to match instance type. price is max bid price for spot instance\n",
    "    \n",
    "    \"\"\"\n",
    "    if string is None:\n",
    "        string='c4.large|c4.xlarge|c4.2xlarge|m3.large'\n",
    "    \n",
    "    if price is None:\n",
    "        price=.05\n",
    "\n",
    "    hist=con.get_spot_price_history(start_time=datetime.isoformat(datetime.now()),availability_zone='us-east-1c')\n",
    "    matches=[m for m in [[i,re.search(string,str(i.instance_type))] for i in hist if i.price<price] if m[1]]\n",
    "    if len(matches)>0:\n",
    "        print 'Maximum price right now is $%s' % max([i[0].price for i in matches])\n",
    "        print 'Minimum price right now is $%s' % min([i[0].price for i in matches])\n",
    "        return [[i[0].instance_type,i[0].price,i[0].region] for i in matches]\n",
    "    else:\n",
    "        return \"no matches\"\n",
    "\n"
   ]
  },
  {
   "cell_type": "code",
   "execution_count": 31,
   "metadata": {
    "collapsed": false
   },
   "outputs": [],
   "source": [
    "spot_prices(\"c4.2x\",1.17)\n"
   ]
  },
  {
   "cell_type": "markdown",
   "metadata": {},
   "source": [
    "##Listing of instance types for general use"
   ]
  },
  {
   "cell_type": "markdown",
   "metadata": {},
   "source": [
    "| Instance Type | vCPU | Memory (GiB) | Storage (GB) | Networking Performance | Physical Processor     | Clock Speed (GHz) | Intel AVX† | Intel AVX2† | Intel Turbo | EBS OPT | Enhanced Networking† |\n",
    "|---------------|------|--------------|--------------|------------------------|------------------------|-------------------|------------|-------------|-------------|---------|----------------------|\n",
    "| t2.micro      | 1    | 1            | EBS Only     | Low to Moderate        | Intel Xeon family      | 2.5               | Yes        | 0           | Yes         | -       | 0                    |\n",
    "| t2.small      | 1    | 2            | EBS Only     | Low to Moderate        | Intel Xeon family      | 2.5               | Yes        | 0           | Yes         | -       | 0                    |\n",
    "| t2.medium     | 2    | 4            | EBS Only     | Low to Moderate        | Intel Xeon family      | 2.5               | Yes        | 0           | Yes         | -       | 0                    |\n",
    "| m3.medium     | 1    | 3.75         | 1 x 4 SSD    | Moderate               | Intel Xeon E5-2670 v2* | 2.5               | Yes        | 0           | Yes         | -       | 0                    |\n",
    "| m3.large      | 2    | 7.5          | 1 x 32 SSD   | Moderate               | Intel Xeon E5-2670 v2* | 2.5               | Yes        | 0           | Yes         | -       | 0                    |\n",
    "| m3.xlarge     | 4    | 15           | 2 x 40 SSD   | High                   | Intel Xeon E5-2670 v2* | 2.5               | Yes        | 0           | Yes         | Yes     | 0                    |\n",
    "| m3.2xlarge    | 8    | 30           | 2 x 80 SSD   | High                   | Intel Xeon E5-2670 v2* | 2.5               | Yes        | 0           | Yes         | Yes     | 0                    |\n",
    "| c4.large      | 2    | 3.75         | EBS Only     | Moderate               | Intel Xeon E5-2666 v3  | 2.9               | Yes        | Yes         | Yes         | Yes     | Yes                  |\n",
    "| c4.xlarge     | 4    | 7.5          | EBS Only     | High                   | Intel Xeon E5-2666 v3  | 2.9               | Yes        | Yes         | Yes         | Yes     | Yes                  |\n",
    "| c4.2xlarge    | 8    | 15           | EBS Only     | High                   | Intel Xeon E5-2666 v3  | 2.9               | Yes        | Yes         | Yes         | Yes     | Yes                  |\n",
    "| c4.4xlarge    | 16   | 30           | EBS Only     | High                   | Intel Xeon E5-2666 v3  | 2.9               | Yes        | Yes         | Yes         | Yes     | Yes                  |\n",
    "| c4.8xlarge    | 36   | 60           | EBS Only     | 10 Gigabit             | Intel Xeon E5-2666 v3  | 2.9               | Yes        | Yes         | Yes         | Yes     | Yes                  |\n",
    "| c3.large      | 2    | 3.75         | 2 x 16 SSD   | Moderate               | Intel Xeon E5-2680 v2  | 2.8               | Yes        | 0           | Yes         | -       | Yes                  |\n",
    "| c3.xlarge     | 4    | 7.5          | 2 x 40 SSD   | Moderate               | Intel Xeon E5-2680 v2  | 2.8               | Yes        | 0           | Yes         | Yes     | Yes                  |\n",
    "| c3.2xlarge    | 8    | 15           | 2 x 80 SSD   | High                   | Intel Xeon E5-2680 v2  | 2.8               | Yes        | 0           | Yes         | Yes     | Yes                  |\n",
    "| c3.4xlarge    | 16   | 30           | 2 x 160 SSD  | High                   | Intel Xeon E5-2680 v2  | 2.8               | Yes        | 0           | Yes         | Yes     | Yes                  |\n",
    "| c3.8xlarge    | 32   | 60           | 2 x 320 SSD  | 10 Gigabit             | Intel Xeon E5-2680 v2  | 2.8               | Yes        | 0           | Yes         | -       | Yes                  |\n",
    "| g2.2xlarge    | 8    | 15           | 1 x 60 SSD   | High                   | Intel Xeon  E5-2670    | 2.6               | 0          | 0           | -           | Yes     | 0                    |\n",
    "| r3.large      | 2    | 15.25        | 1 x 32 SSD   | Moderate               | Intel Xeon E5-2670 v2  | 2.5               | Yes        | 0           | Yes         | -       | Yes                  |\n",
    "| r3.xlarge     | 4    | 30.5         | 1 x 80 SSD   | Moderate               | Intel Xeon E5-2670 v2  | 2.5               | Yes        | 0           | Yes         | Yes     | Yes                  |\n",
    "| r3.2xlarge    | 8    | 61           | 1 x 160 SSD  | High                   | Intel Xeon E5-2670 v2  | 2.5               | Yes        | 0           | Yes         | Yes     | Yes                  |\n",
    "| r3.4xlarge    | 16   | 122          | 1 x 320 SSD  | High                   | Intel Xeon E5-2670 v2  | 2.5               | Yes        | 0           | Yes         | Yes     | Yes                  |\n",
    "| r3.8xlarge    | 32   | 244          | 2 x 320 SSD  | 10 Gigabit             | Intel Xeon E5-2670 v2  | 2.5               | Yes        | 0           | Yes         | -       | Yes                  |\n",
    "| i2.xlarge     | 4    | 30.5         | 1 x 800 SSD  | Moderate               | Intel Xeon E5-2670 v2  | 2.5               | Yes        | 0           | Yes         | Yes     | Yes                  |\n",
    "| i2.2xlarge    | 8    | 61           | 2 x 800 SSD  | High                   | Intel Xeon E5-2670 v2  | 2.5               | Yes        | 0           | Yes         | Yes     | Yes                  |\n",
    "| i2.4xlarge    | 16   | 122          | 4 x 800 SSD  | High                   | Intel Xeon E5-2670 v2  | 2.5               | Yes        | 0           | Yes         | Yes     | Yes                  |\n",
    "| i2.8xlarge    | 32   | 244          | 8 x 800 SSD  | 10 Gigabit             | Intel Xeon E5-2670 v2  | 2.5               | Yes        | 0           | Yes         | -       | Yes                  |\n",
    "| hs1.8xlarge   | 16   | 117          | 24 x 2,000   | 10 Gigabit             | Intel Xeon Family      | 2                 | 0          | 0           | -           | -       | 0                    |"
   ]
  },
  {
   "cell_type": "code",
   "execution_count": null,
   "metadata": {
    "collapsed": true
   },
   "outputs": [],
   "source": [
    "## Get image names"
   ]
  },
  {
   "cell_type": "code",
   "execution_count": 120,
   "metadata": {
    "collapsed": false
   },
   "outputs": [
    {
     "data": {
      "text/plain": [
       "[(u'starclusteR_03_31_14', u'ami-22bc8b4a'),\n",
       " (u'starcluster_big', u'ami-c4e1d7ac')]"
      ]
     },
     "execution_count": 120,
     "metadata": {},
     "output_type": "execute_result"
    }
   ],
   "source": [
    "img=con.get_all_images(owners='self')\n",
    "[(i.name,i.id) for i in img]\n"
   ]
  },
  {
   "cell_type": "markdown",
   "metadata": {},
   "source": [
    "## setup access management so that instances can see s3"
   ]
  },
  {
   "cell_type": "markdown",
   "metadata": {},
   "source": [
    "This is helpful if we  use boto or launch individual machines. We can use iam roles to get access to s3 without needing to expose sensitive information on the virtualized machines. Starcluster doesn't yet support this, but in the future it probably will. this is also helpful if you are going to create clusters using the h2o script (see https://github.com/h2oai/h2o/tree/master/ec2)"
   ]
  },
  {
   "cell_type": "markdown",
   "metadata": {},
   "source": [
    "This sets up the class that will connect ot iam"
   ]
  },
  {
   "cell_type": "code",
   "execution_count": null,
   "metadata": {
    "collapsed": false
   },
   "outputs": [],
   "source": [
    "iamcon=boto.connect_iam()\n"
   ]
  },
  {
   "cell_type": "code",
   "execution_count": null,
   "metadata": {
    "collapsed": false
   },
   "outputs": [],
   "source": [
    "ec2policy=\"\"\"{\n",
    "  \"Statement\": [\n",
    "    {\n",
    "      \"Effect\": \"Allow\",\n",
    "      \"Action\": [\"ec2:*\"],\n",
    "      \"Resource\": [\"*\"]\n",
    "    }\n",
    "  ]}\n",
    "\"\"\"\n",
    "\n",
    "\n",
    "s3policy = \"\"\"{\n",
    "\"Statement\":[{\n",
    "\"Effect\":\"Allow\",\n",
    "\"Action\":[\"s3:*\"],\n",
    "\"Resource\":[\"*\"]}]}\"\"\"\n",
    "\n",
    "instance_profile = iamcon.create_instance_profile('cluster_profile')\n",
    "role = iamcon.create_role('cluster_role')\n",
    "iamcon.add_role_to_instance_profile('cluster_profile', 'cluster_role')\n",
    "iamcon.put_role_policy('cluster_role', 's3policy', s3policy)\n",
    "iamcon.put_role_policy('cluster_role', 'ec2policy', ec2policy)"
   ]
  },
  {
   "cell_type": "markdown",
   "metadata": {},
   "source": [
    "## running instances by boto\n",
    "This can be a bit easier at times, especially if you don't want to setup a cluster. "
   ]
  },
  {
   "cell_type": "code",
   "execution_count": null,
   "metadata": {
    "collapsed": false
   },
   "outputs": [],
   "source": [
    "instances=con.get_all_instances()\n",
    "instances.ids=[j.id for i in instances for j in i.instances]\n",
    "instances.statuses=[j.state for i in instances for j in i.instances]\n",
    "[[j.id, j.state,j.dns_name] for i in instances for j in i.instances]\n"
   ]
  },
  {
   "cell_type": "code",
   "execution_count": 159,
   "metadata": {
    "collapsed": false
   },
   "outputs": [],
   "source": [
    "# setup for requesting a spot instance:\n",
    " \n",
    "\n",
    "# ami\n",
    "ami='ami-xxxxxxx'\n",
    "# instance type:\n",
    "spot_inst_type='c4.8xlarge'\n",
    "# security group:\n",
    "security_groups=con.get_all_security_groups()\n",
    "[i for i in security_groups if re.search('h2o',str(i))]\n",
    "group=[i for i in con.get_all_security_groups() if re.search('h2o',str(i))][0]  # use group.id below\n",
    "\n",
    "# set volume sizing: use this if you want a custom volume\n",
    "dev_sda1=ec2.blockdevicemapping.BlockDeviceType()\n",
    "dev_sda1.size = 30\n",
    "bdm=ec2.blockdevicemapping.BlockDeviceMapping()\n",
    "bdm['/dev/sda1']=dev_sda1\n"
   ]
  },
  {
   "cell_type": "code",
   "execution_count": null,
   "metadata": {
    "collapsed": false
   },
   "outputs": [],
   "source": [
    "con.request_spot_instances(\n",
    " instance_type=spot_inst_type,\n",
    " price=.35,\n",
    " image_id=ami,\n",
    " block_device_map=bdm, # commment out if you are not using custom block mapping \n",
    " instance_profile_name='h2o', # type in role name here. mine is h2o because i was using this with h2o\n",
    " key_name='tcbook',\n",
    " count=1,\n",
    " security_group_ids=[group.id], # note that this needs to be in a list\n",
    " dry_run=True\n",
    " )"
   ]
  },
  {
   "cell_type": "code",
   "execution_count": 147,
   "metadata": {
    "collapsed": false
   },
   "outputs": [],
   "source": [
    "spot_req=con.get_all_spot_instance_requests()\n",
    "spot_req"
   ]
  }
 ],
 "metadata": {
  "kernelspec": {
   "display_name": "Python 2",
   "language": "python",
   "name": "python2"
  },
  "language_info": {
   "codemirror_mode": {
    "name": "ipython",
    "version": 2
   },
   "file_extension": ".py",
   "mimetype": "text/x-python",
   "name": "python",
   "nbconvert_exporter": "python",
   "pygments_lexer": "ipython2",
   "version": "2.7.8"
  }
 },
 "nbformat": 4,
 "nbformat_minor": 0
}
